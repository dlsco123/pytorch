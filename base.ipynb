{
 "cells": [
  {
   "cell_type": "code",
   "execution_count": 2,
   "metadata": {},
   "outputs": [
    {
     "data": {
      "text/plain": [
       "tensor([5, 2, 3])"
      ]
     },
     "execution_count": 2,
     "metadata": {},
     "output_type": "execute_result"
    }
   ],
   "source": [
    "import torch\n",
    "varT = torch.tensor([1, 2, 3])\n",
    "type(varT)\n",
    "varT[0] = 5\n",
    "varT"
   ]
  },
  {
   "cell_type": "code",
   "execution_count": 3,
   "metadata": {},
   "outputs": [
    {
     "data": {
      "text/plain": [
       "<tf.Variable 'Variable:0' shape=(3,) dtype=int32, numpy=array([  1, 200, 300])>"
      ]
     },
     "execution_count": 3,
     "metadata": {},
     "output_type": "execute_result"
    }
   ],
   "source": [
    "### tf 예시\n",
    "import tensorflow as tf\n",
    "var = tf.Variable([100,200,300])\n",
    "type[var]\n",
    "# var[0] = 1 // TF는 이거 안됨 assing써야 함\n",
    "\n",
    "var[0].assign(1)\n",
    "var"
   ]
  },
  {
   "cell_type": "code",
   "execution_count": 4,
   "metadata": {},
   "outputs": [
    {
     "data": {
      "text/plain": [
       "(<tf.Variable 'Variable:0' shape=(3,) dtype=int32, numpy=array([4, 5, 6])>,\n",
       " <tf.Tensor: shape=(3,), dtype=int32, numpy=array([1, 2, 3])>)"
      ]
     },
     "execution_count": 4,
     "metadata": {},
     "output_type": "execute_result"
    }
   ],
   "source": [
    "a=tf.Variable([4,5,6])\n",
    "b=tf.constant([1,2,3])\n",
    "# variable은 주소와 함께! b는 주소X\n",
    "a, b"
   ]
  },
  {
   "cell_type": "code",
   "execution_count": 5,
   "metadata": {},
   "outputs": [
    {
     "data": {
      "text/plain": [
       "(<tf.Tensor: shape=(3,), dtype=int32, numpy=array([7, 8, 9])>,\n",
       " <tf.Tensor: shape=(3,), dtype=int32, numpy=array([7, 8, 9])>)"
      ]
     },
     "execution_count": 5,
     "metadata": {},
     "output_type": "execute_result"
    }
   ],
   "source": [
    "aa=[7,8,9]\n",
    "b=tf.constant(aa)\n",
    "b, tf.convert_to_tensor(aa)"
   ]
  },
  {
   "cell_type": "code",
   "execution_count": 2,
   "metadata": {},
   "outputs": [
    {
     "name": "stdout",
     "output_type": "stream",
     "text": [
      "Current cuda device is cuda\n"
     ]
    }
   ],
   "source": [
    "#### -- 1-2. 분석 환경 설정 -- ####\n",
    "import torch\n",
    "is_cuda = torch.cuda.is_available()\n",
    "device = torch.device('cuda' if is_cuda else 'cpu')\n",
    "\n",
    "print ('Current cuda device is', device)"
   ]
  },
  {
   "cell_type": "code",
   "execution_count": null,
   "metadata": {},
   "outputs": [],
   "source": [
    "from tensorflow.keras.preprocessing.image import ImageDataGenerator\n",
    "datagen = ImageDataGenerator(rescale=1./255,\n",
    "        shear_range=0.2,\n",
    "        zoom_range=0.2,\n",
    "        horizontal_flip=True # 이미지의 절반을 무작위로 수평으로 뒤집습니다.\n",
    "    )\n",
    "test_gen = ImageDataGenerator(rescale=1./255)\n",
    "\n",
    "from sklearn.model_selection import train_test_split\n",
    "\n",
    "# Split the original training data into training and validation\n",
    "train_df, valid_df = train_test_split(train_df, test_size=0.2, random_state=42)\n",
    "\n",
    "train_gen = datagen.flow_from_dataframe(dataframe=train_df, directory=None, x_col='path', y_col='label',\n",
    "    weight_col=None, target_size=(256, 256), color_mode='rgb',\n",
    "    classes=None, class_mode='categorical', batch_size=32, shuffle=True)\n",
    "\n",
    "# Create a new generator for validation data\n",
    "valid_gen = datagen.flow_from_dataframe(dataframe=valid_df, directory=None, x_col='path', y_col='label',\n",
    "    weight_col=None, target_size=(256, 256), color_mode='rgb',\n",
    "    classes=None, class_mode='categorical', batch_size=32, shuffle=True)\n",
    "\n",
    "test_gen = test_gen.flow_from_dataframe(dataframe = test_df, directory=None, x_col='path', y_col='label',\n",
    "    weight_col=None, target_size=(256, 256), color_mode='rgb',\n",
    "    classes=None, class_mode='categorical', batch_size=32, shuffle=True)"
   ]
  }
 ],
 "metadata": {
  "kernelspec": {
   "display_name": "gpu",
   "language": "python",
   "name": "python3"
  },
  "language_info": {
   "codemirror_mode": {
    "name": "ipython",
    "version": 3
   },
   "file_extension": ".py",
   "mimetype": "text/x-python",
   "name": "python",
   "nbconvert_exporter": "python",
   "pygments_lexer": "ipython3",
   "version": "3.9.17"
  },
  "orig_nbformat": 4
 },
 "nbformat": 4,
 "nbformat_minor": 2
}
